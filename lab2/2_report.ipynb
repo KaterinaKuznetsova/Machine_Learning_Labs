{
 "cells": [
  {
   "cell_type": "markdown",
   "metadata": {
    "collapsed": true
   },
   "source": [
    "# Лабораторная работа №2. <br> Деревья решений"
   ]
  },
  {
   "cell_type": "markdown",
   "metadata": {},
   "source": [
    "Выполнила: Кузнецова Екатерина"
   ]
  },
  {
   "cell_type": "markdown",
   "metadata": {},
   "source": [
    "## 1. Цель работы"
   ]
  },
  {
   "cell_type": "markdown",
   "metadata": {},
   "source": [
    "Получить практические навыки работы с методом деревьев решений на практических примерах с использованием языка программирования python."
   ]
  },
  {
   "cell_type": "markdown",
   "metadata": {},
   "source": [
    "## 2. Постановка задачи"
   ]
  },
  {
   "cell_type": "markdown",
   "metadata": {},
   "source": [
    "1. Прочитать теоретическую часть по деревьям решений\n",
    "2. Описать структуру исходных данных для своего набора:<br>\n",
    "\ta. общие характеристики массива данных: предметная область, количество записей<br>\n",
    "\tb. входные параметры: названия и типы<br>\n",
    "\tc. выходной класс: название и значения<br>\n",
    "3. Провести серию экспериментов с построением и тестированием деревьев решений (используя DecisionTreeClassifier и RandomForestClassifier), переразбивая исходное множество данных.\n",
    "4. Осуществить классификацию\n",
    "5. Сформулировать вывод по использованию деревьев решений для исходной задачи"
   ]
  },
  {
   "cell_type": "markdown",
   "metadata": {},
   "source": [
    "## 3. Исходные данные"
   ]
  },
  {
   "cell_type": "markdown",
   "metadata": {},
   "source": [
    "Датасет: http://archive.ics.uci.edu/ml/datasets/Zoo<br>\n",
    "Предметная область: обитатели зоопарка<br>\n",
    "Задача: определить, к какому из 7ми типов относится каждое животное\n",
    "\n",
    "\n",
    "Количество записей: 101<br>\n",
    "Количество атрибутов: 17\n",
    "\n",
    "\n",
    "Атрибуты:\n",
    "\n",
    "1. Название животного (строка, уникальный для каждого экземпляра)\n",
    "2. Наличие волос (логический тип)\n",
    "3. Наличие перьев (логический тип)\n",
    "4. Яйца (логический тип)\n",
    "5. Млекопитающий (логический тип)\n",
    "6. Умеет летать (логический тип)\n",
    "7. Водный (логический тип)\n",
    "8. Хищник (логический тип)\n",
    "9. Наличие зубов (логический тип) \n",
    "10. Наличие позвоночника (логический тип)\n",
    "11. Дышит воздухом (логический тип)\n",
    "12. Ядовитость (логический тип)\n",
    "13. Наличие плавников (логический тип)\n",
    "14. Количество ног (набор целочисленных значений: {0,2,4,5,6,8})\n",
    "15. Наличие хвоста (логический тип)\n",
    "16. Является домашним (логический тип)\n",
    "17. Catsize (логический тип)\n",
    "18. Тип (целочисленные значения в диапазоне [1,7])"
   ]
  },
  {
   "cell_type": "markdown",
   "metadata": {},
   "source": [
    "## 4. Ход работы"
   ]
  },
  {
   "cell_type": "markdown",
   "metadata": {},
   "source": [
    "Создаем функцию, которая будет загружать наш наш датасет и разбивать его на 2 части: animal_attr, где хранятся значения атрибутов каждого объекта, animal_class - массив классов, к которым принадлежат эти объекты."
   ]
  },
  {
   "cell_type": "code",
   "execution_count": 3,
   "metadata": {},
   "outputs": [],
   "source": [
    "import pandas as pd\n",
    "import numpy as np\n",
    "\n",
    "\n",
    "def load_data(filename):\n",
    "    train_df = pd.read_csv(filename, header=None)\n",
    "    train_data = train_df.values\n",
    "    animal_attr = train_data[:, 1:-1]\n",
    "    animal_class = train_data[:, -1]\n",
    "    animal_class = animal_class.astype(np.int64, copy=False)\n",
    "    return animal_attr, animal_class"
   ]
  },
  {
   "cell_type": "markdown",
   "metadata": {},
   "source": [
    "С помощью DecisionTreeClassifier и RandomForestClassifier построим и протестируем несколько деревьев решений для данного датасета. Исходные данные будем разбивать на тестовую и обучающую выборки в пропроциях, указанных в задании."
   ]
  },
  {
   "cell_type": "code",
   "execution_count": 8,
   "metadata": {},
   "outputs": [],
   "source": [
    "from sklearn.model_selection import train_test_split\n",
    "from sklearn.ensemble import RandomForestClassifier\n",
    "from sklearn.tree import DecisionTreeClassifier\n",
    "\n",
    "def classificate(train_sizes):\n",
    "    result = []\n",
    "    class_list = [RandomForestClassifier(), DecisionTreeClassifier()]\n",
    "    animal_attr, animal_class = load_data('zoo.data.csv')\n",
    "\n",
    "    for train_size in train_sizes:\n",
    "        result.append('Размер обучающей выборки: ' + str(int(train_size * 100)) + \"%\")\n",
    "        data_train, data_test, class_train, class_test = train_test_split(animal_attr, animal_class,\n",
    "                                                                          test_size=1 - train_size)\n",
    "        for clf in class_list:\n",
    "            clf.fit(data_train, class_train)\n",
    "            result.append(clf.score(data_test, class_test))\n",
    "    return result"
   ]
  },
  {
   "cell_type": "markdown",
   "metadata": {},
   "source": [
    "Выводим результаты на экран. В процентах выводится размер обучающей выборки. Далее идут точность классификации методом Random Forest и точность классификации методом CART."
   ]
  },
  {
   "cell_type": "code",
   "execution_count": 27,
   "metadata": {},
   "outputs": [
    {
     "name": "stdout",
     "output_type": "stream",
     "text": [
      "Размер обучающей выборки: 60%\n0.951219512195\n0.951219512195\nРазмер обучающей выборки: 70%\n0.935483870968\n0.935483870968\nРазмер обучающей выборки: 80%\n1.0\n0.952380952381\nРазмер обучающей выборки: 90%\n1.0\n1.0\n"
     ]
    }
   ],
   "source": [
    "def print_result():\n",
    "    for k in classificate([0.6, 0.7, 0.8, 0.9]):\n",
    "        print(k)\n",
    "\n",
    "\n",
    "print_result()"
   ]
  },
  {
   "cell_type": "markdown",
   "metadata": {},
   "source": [
    "## 5. Заключение"
   ]
  },
  {
   "cell_type": "markdown",
   "metadata": {},
   "source": [
    "В ходе лабораторной работы был проведен ряд экспериментов по классификации наборов данных с помощью деревьев решений DecisionTree и RandomForest. Оба алгоритма в большинстве случаев классифицируют датасет \"Зоопарк\" с одинаковой высокой точностью.\n"
   ]
  }
 ],
 "metadata": {
  "kernelspec": {
   "display_name": "Python 2",
   "language": "python",
   "name": "python2"
  },
  "language_info": {
   "codemirror_mode": {
    "name": "ipython",
    "version": 2.0
   },
   "file_extension": ".py",
   "mimetype": "text/x-python",
   "name": "python",
   "nbconvert_exporter": "python",
   "pygments_lexer": "ipython2",
   "version": "2.7.6"
  }
 },
 "nbformat": 4,
 "nbformat_minor": 0
}