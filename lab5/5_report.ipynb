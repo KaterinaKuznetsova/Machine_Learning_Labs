{
 "cells": [
  {
   "cell_type": "markdown",
   "metadata": {
    "collapsed": true
   },
   "source": [
    "# Лабораторная работа №5. <br> Метрики качества классификации"
   ]
  },
  {
   "cell_type": "markdown",
   "metadata": {},
   "source": [
    "Выполнила: Кузнецова Екатерина"
   ]
  },
  {
   "cell_type": "markdown",
   "metadata": {},
   "source": [
    "## 1. Цель работы"
   ]
  },
  {
   "cell_type": "markdown",
   "metadata": {},
   "source": [
    "Рассмотреть различные метрики качества классификации, входящих в состав библиотеки scikit-learn"
   ]
  },
  {
   "cell_type": "markdown",
   "metadata": {},
   "source": [
    "## 2. Постановка задачи"
   ]
  },
  {
   "cell_type": "markdown",
   "metadata": {},
   "source": [
    "1. Прочитать теоретическую часть\n",
    "Для двух любых методов классификации из предыдущих работ и своего набора данных посчитать следующие метрики качества:<br>\n",
    "\ta. Точность классификации (Classification Accuracy)<br>\n",
    "\tb. Логарифм функции правдоподобия (Logarithmic Loss)<br>\n",
    "\tc. Область под кривой ошибок (Area Under ROC Curve)<br>\n",
    "\td. Матрица неточностей (Confusion Matrix)<br>\n",
    "\te. Отчет классификации (Classification Report)<br>\n",
    "2. Для более точных результатов использовать кросс-валидацию\n",
    "3. Сравнить применимость используемых классификаторов, основываясь на полученных метриках"
   ]
  },
  {
   "cell_type": "markdown",
   "metadata": {},
   "source": [
    "## 3. Исходные данные"
   ]
  },
  {
   "cell_type": "markdown",
   "metadata": {},
   "source": [
    "Датасет: http://archive.ics.uci.edu/ml/datasets/Zoo<br>\n",
    "Предметная область: обитатели зоопарка<br>\n",
    "Задача: определить, к какому из 7ми типов относится каждое животное\n",
    "\n",
    "Количество записей: 101<br>\n",
    "Количество атрибутов: 17\n",
    "\n",
    "\n",
    "Атрибуты:\n",
    "\n",
    "1. Название животного (строка, уникальный для каждого экземпляра)\n",
    "2. Наличие волос (логический тип)\n",
    "3. Наличие перьев (логический тип)\n",
    "4. Яйца (логический тип)\n",
    "5. Млекопитающий (логический тип)\n",
    "6. Умеет летать (логический тип)\n",
    "7. Водный (логический тип)\n",
    "8. Хищник (логический тип)\n",
    "9. Наличие зубов (логический тип) \n",
    "10. Наличие позвоночника (логический тип)\n",
    "11. Дышит воздухом (логический тип)\n",
    "12. Ядовитость (логический тип)\n",
    "13. Наличие плавников (логический тип)\n",
    "14. Количество ног (набор целочисленных значений: {0,2,4,5,6,8})\n",
    "15. Наличие хвоста (логический тип)\n",
    "16. Является домашним (логический тип)\n",
    "17. Catsize (логический тип)\n",
    "18. Тип (целочисленные значения в диапазоне [1,7])"
   ]
  },
  {
   "cell_type": "markdown",
   "metadata": {},
   "source": [
    "## 4. Ход работы"
   ]
  },
  {
   "cell_type": "markdown",
   "metadata": {},
   "source": [
    "Загружаем датасет и делим его на 2 части: animal_attr, где хранятся значения атрибутов каждого объекта, animal_class - массив классов, к которым принадлежат эти объекты. Далее разбиваем выборку на тестовую и обучающую"
   ]
  },
  {
   "cell_type": "code",
   "execution_count": 2,
   "metadata": {},
   "outputs": [],
   "source": [
    "import numpy as np\n",
    "import pandas as pd\n",
    "from sklearn.model_selection import train_test_split\n",
    "\n",
    "dataset = pd.read_csv(\"zoo.data.csv\", header=None).values\n",
    "animal_attr = dataset[:, 1:-1]  # список атрибутов (признаков) для каждого животного\n",
    "animal_class = dataset[:, -1]  # классы животных\n",
    "animal_class = animal_class.astype(np.int64, copy=False)\n",
    "X_train, X_test, Y_train, Y_test = train_test_split(animal_attr, animal_class, test_size=0.35)"
   ]
  },
  {
   "cell_type": "markdown",
   "metadata": {},
   "source": [
    "Посчитаем метрики качества для Наивного Байесовского классификатора и метода К ближайших соседей. Для более точных результатов будем использовать кросс-валидацию."
   ]
  },
  {
   "cell_type": "code",
   "execution_count": 7,
   "metadata": {},
   "outputs": [],
   "source": [
    "from sklearn.metrics import confusion_matrix, classification_report\n",
    "from sklearn.model_selection import KFold, cross_val_score\n",
    "\n",
    "# функция для подсчета метрик\n",
    "def calc_metric(estimator):\n",
    "    # для каждого метода классификации\n",
    "    print('Классификатор: {}'.format(estimator))\n",
    "    # вычисляем точность классификации и логарифм функции правдоподобия\n",
    "    for scoring in ['accuracy', 'neg_log_loss']:\n",
    "        result = cross_val_score(estimator, animal_attr, animal_class, cv=KFold(n_splits=2, shuffle=True),\n",
    "                                 scoring=scoring)\n",
    "        print(' Метрика: {}. Точность: {:.3f} ({:.3f})'.format(scoring, result.mean(), result.std()))\n",
    "    \n",
    "    # обучаем классификатор\n",
    "    estimator.fit(X_train, Y_train)\n",
    "    # классифицируем тестовую выборку\n",
    "    predicted = estimator.predict(X_test)\n",
    "\n",
    "    # вычисление матрицы неточностей\n",
    "    print(' Метрика: Confusion Matrix\\n {}'.format(confusion_matrix(Y_test, predicted)))\n",
    "    # отчет классификации\n",
    "    print(' Метрика: Classification Report\\n {}'.format(classification_report(Y_test, predicted)))"
   ]
  },
  {
   "cell_type": "markdown",
   "metadata": {},
   "source": [
    "ROC-кривая позволяет оценивать качество только бинарной классификации, а в нашем случае третуется разбиение данных по 7 классам. Поэтому в данном случае оценка \"Area Under ROC Curve\" не применима."
   ]
  },
  {
   "cell_type": "code",
   "execution_count": 6,
   "metadata": {},
   "outputs": [
    {
     "name": "stdout",
     "output_type": "stream",
     "text": [
      "Классификатор: GaussianNB(priors=None)\n Метрика: accuracy. Точность: 0.960 (0.020)\n Метрика: neg_log_loss. Точность: -1.700 (1.009)\n Метрика: Confusion Matrix\n [[12  0  0  0  0  0  0]\n [ 0  8  0  0  0  0  0]\n [ 0  0  1  0  0  0  0]\n [ 0  0  0  7  0  0  0]\n [ 0  0  0  0  1  0  0]\n [ 0  0  0  0  0  3  0]\n [ 0  0  0  0  0  0  4]]\n Метрика: Classification Report\n              precision    recall  f1-score   support\n\n          1       1.00      1.00      1.00        12\n          2       1.00      1.00      1.00         8\n          3       1.00      1.00      1.00         1\n          4       1.00      1.00      1.00         7\n          5       1.00      1.00      1.00         1\n          6       1.00      1.00      1.00         3\n          7       1.00      1.00      1.00         4\n\navg / total       1.00      1.00      1.00        36\n\nКлассификатор: KNeighborsClassifier(algorithm='auto', leaf_size=30, metric='minkowski',\n           metric_params=None, n_jobs=1, n_neighbors=25, p=2,\n           weights='uniform')\n Метрика: accuracy. Точность: 0.525 (0.015)\n Метрика: neg_log_loss. Точность: -1.151 (0.019)\n Метрика: Confusion Matrix\n [[11  1  0  0  0  0  0]\n [ 0  8  0  0  0  0  0]\n [ 0  1  0  0  0  0  0]\n [ 0  7  0  0  0  0  0]\n [ 1  0  0  0  0  0  0]\n [ 3  0  0  0  0  0  0]\n [ 2  2  0  0  0  0  0]]\n Метрика: Classification Report\n              precision    recall  f1-score   support\n\n          1       0.65      0.92      0.76        12\n          2       0.42      1.00      0.59         8\n          3       0.00      0.00      0.00         1\n          4       0.00      0.00      0.00         7\n          5       0.00      0.00      0.00         1\n          6       0.00      0.00      0.00         3\n          7       0.00      0.00      0.00         4\n\navg / total       0.31      0.53      0.38        36\n\n"
     ]
    },
    {
     "name": "stderr",
     "output_type": "stream",
     "text": [
      "C:\\Program Files\\Anaconda3\\lib\\site-packages\\sklearn\\metrics\\classification.py:1113: UndefinedMetricWarning: Precision and F-score are ill-defined and being set to 0.0 in labels with no predicted samples.\n  'precision', 'predicted', average, warn_for)\n"
     ]
    }
   ],
   "source": [
    "from sklearn.naive_bayes import GaussianNB\n",
    "from sklearn.neighbors import KNeighborsClassifier\n",
    "\n",
    "calc_metric(GaussianNB())\n",
    "calc_metric(KNeighborsClassifier(n_neighbors=25))"
   ]
  },
  {
   "cell_type": "markdown",
   "metadata": {},
   "source": [
    "## 5. Заключение"
   ]
  },
  {
   "cell_type": "markdown",
   "metadata": {},
   "source": [
    "В ходе лабораторной работы были посчитаны 4 метрики качества для Наивного Байесовского классификатора и метода К ближайших соседей. Метрика Area Under ROC Curve оказалась неприменимой к датасету \"Зоопарк\".\n",
    "\n",
    "Точность классификации GaussianNB намного выше, чем у KNeighborsClassifier. При анализе матрицы неточностей и отчета классификации было выявлено, что алгоритм К ближайших соседей ошибается намного чаще. KNeighborsClassifier выигрывает только по метрике Logarithmic Loss. Из этого можно сделать вывод, что байесовский алгоритм лучше подходит для данного датасета. "
   ]
  },
  {
   "cell_type": "code",
   "execution_count": null,
   "metadata": {},
   "outputs": [],
   "source": [
    ""
   ]
  }
 ],
 "metadata": {
  "kernelspec": {
   "display_name": "Python 2",
   "language": "python",
   "name": "python2"
  },
  "language_info": {
   "codemirror_mode": {
    "name": "ipython",
    "version": 2.0
   },
   "file_extension": ".py",
   "mimetype": "text/x-python",
   "name": "python",
   "nbconvert_exporter": "python",
   "pygments_lexer": "ipython2",
   "version": "2.7.6"
  }
 },
 "nbformat": 4,
 "nbformat_minor": 0
}